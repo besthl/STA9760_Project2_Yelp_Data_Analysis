{
 "cells": [
  {
   "cell_type": "code",
   "execution_count": 2,
   "metadata": {},
   "outputs": [
    {
     "data": {
      "text/html": [
       "Current session configs: <tt>{'conf': {'spark.pyspark.python': 'python3', 'spark.pyspark.virtualenv.enabled': 'true', 'spark.pyspark.virtualenv.type': 'native', 'spark.pyspark.virtualenv.bin.path': '/usr/bin/virtualenv'}, 'kind': 'pyspark'}</tt><br>"
      ],
      "text/plain": [
       "<IPython.core.display.HTML object>"
      ]
     },
     "metadata": {},
     "output_type": "display_data"
    },
    {
     "data": {
      "text/html": [
       "No active sessions."
      ],
      "text/plain": [
       "<IPython.core.display.HTML object>"
      ]
     },
     "metadata": {},
     "output_type": "display_data"
    }
   ],
   "source": [
    "%%info"
   ]
  },
  {
   "cell_type": "code",
   "execution_count": 1,
   "metadata": {},
   "outputs": [
    {
     "data": {
      "application/vnd.jupyter.widget-view+json": {
       "model_id": "784659af09a447779389f1b3e1c1e579",
       "version_major": 2,
       "version_minor": 0
      },
      "text/plain": [
       "VBox()"
      ]
     },
     "metadata": {},
     "output_type": "display_data"
    },
    {
     "name": "stdout",
     "output_type": "stream",
     "text": [
      "Starting Spark application\n"
     ]
    },
    {
     "data": {
      "text/html": [
       "<table>\n",
       "<tr><th>ID</th><th>YARN Application ID</th><th>Kind</th><th>State</th><th>Spark UI</th><th>Driver log</th><th>Current session?</th></tr><tr><td>1</td><td>application_1588046231939_0002</td><td>pyspark</td><td>idle</td><td><a target=\"_blank\" href=\"http://ip-172-31-30-19.us-east-2.compute.internal:20888/proxy/application_1588046231939_0002/\">Link</a></td><td><a target=\"_blank\" href=\"http://ip-172-31-16-207.us-east-2.compute.internal:8042/node/containerlogs/container_1588046231939_0002_01_000001/livy\">Link</a></td><td>✔</td></tr></table>"
      ],
      "text/plain": [
       "<IPython.core.display.HTML object>"
      ]
     },
     "metadata": {},
     "output_type": "display_data"
    },
    {
     "data": {
      "application/vnd.jupyter.widget-view+json": {
       "model_id": "",
       "version_major": 2,
       "version_minor": 0
      },
      "text/plain": [
       "FloatProgress(value=0.0, bar_style='info', description='Progress:', layout=Layout(height='25px', width='50%'),…"
      ]
     },
     "metadata": {},
     "output_type": "display_data"
    },
    {
     "name": "stdout",
     "output_type": "stream",
     "text": [
      "SparkSession available as 'spark'.\n"
     ]
    },
    {
     "data": {
      "application/vnd.jupyter.widget-view+json": {
       "model_id": "",
       "version_major": 2,
       "version_minor": 0
      },
      "text/plain": [
       "FloatProgress(value=0.0, bar_style='info', description='Progress:', layout=Layout(height='25px', width='50%'),…"
      ]
     },
     "metadata": {},
     "output_type": "display_data"
    },
    {
     "name": "stdout",
     "output_type": "stream",
     "text": [
      "Collecting pandas==1.0.3\n",
      "  Using cached pandas-1.0.3-cp36-cp36m-manylinux1_x86_64.whl (10.0 MB)\n",
      "Collecting python-dateutil>=2.6.1\n",
      "  Using cached python_dateutil-2.8.1-py2.py3-none-any.whl (227 kB)\n",
      "Requirement already satisfied: numpy>=1.13.3 in /usr/local/lib64/python3.6/site-packages (from pandas==1.0.3) (1.14.5)\n",
      "Requirement already satisfied: pytz>=2017.2 in /usr/local/lib/python3.6/site-packages (from pandas==1.0.3) (2019.3)\n",
      "Requirement already satisfied: six>=1.5 in /usr/local/lib/python3.6/site-packages (from python-dateutil>=2.6.1->pandas==1.0.3) (1.13.0)\n",
      "Installing collected packages: python-dateutil, pandas\n",
      "Successfully installed pandas-1.0.3 python-dateutil-2.8.1\n",
      "\n",
      "Collecting matplotlib==3.2.1\n",
      "  Using cached matplotlib-3.2.1-cp36-cp36m-manylinux1_x86_64.whl (12.4 MB)\n",
      "Collecting pyparsing!=2.0.4,!=2.1.2,!=2.1.6,>=2.0.1\n",
      "  Using cached pyparsing-2.4.7-py2.py3-none-any.whl (67 kB)\n",
      "Requirement already satisfied: numpy>=1.11 in /usr/local/lib64/python3.6/site-packages (from matplotlib==3.2.1) (1.14.5)\n",
      "Requirement already satisfied: python-dateutil>=2.1 in /mnt/tmp/1588049631243-0/lib/python3.6/site-packages (from matplotlib==3.2.1) (2.8.1)\n",
      "Collecting kiwisolver>=1.0.1\n",
      "  Using cached kiwisolver-1.2.0-cp36-cp36m-manylinux1_x86_64.whl (88 kB)\n",
      "Collecting cycler>=0.10\n",
      "  Using cached cycler-0.10.0-py2.py3-none-any.whl (6.5 kB)\n",
      "Requirement already satisfied: six>=1.5 in /usr/local/lib/python3.6/site-packages (from python-dateutil>=2.1->matplotlib==3.2.1) (1.13.0)\n",
      "Installing collected packages: pyparsing, kiwisolver, cycler, matplotlib\n",
      "Successfully installed cycler-0.10.0 kiwisolver-1.2.0 matplotlib-3.2.1 pyparsing-2.4.7\n",
      "\n",
      "Collecting seaborn==0.10.0\n",
      "  Using cached seaborn-0.10.0-py3-none-any.whl (215 kB)\n",
      "Collecting scipy>=1.0.1\n",
      "  Using cached scipy-1.4.1-cp36-cp36m-manylinux1_x86_64.whl (26.1 MB)\n",
      "Requirement already satisfied: matplotlib>=2.1.2 in /mnt/tmp/1588049631243-0/lib64/python3.6/site-packages (from seaborn==0.10.0) (3.2.1)\n",
      "Requirement already satisfied: numpy>=1.13.3 in /usr/local/lib64/python3.6/site-packages (from seaborn==0.10.0) (1.14.5)\n",
      "Requirement already satisfied: pandas>=0.22.0 in /mnt/tmp/1588049631243-0/lib64/python3.6/site-packages (from seaborn==0.10.0) (1.0.3)\n",
      "Requirement already satisfied: pyparsing!=2.0.4,!=2.1.2,!=2.1.6,>=2.0.1 in /mnt/tmp/1588049631243-0/lib/python3.6/site-packages (from matplotlib>=2.1.2->seaborn==0.10.0) (2.4.7)\n",
      "Requirement already satisfied: python-dateutil>=2.1 in /mnt/tmp/1588049631243-0/lib/python3.6/site-packages (from matplotlib>=2.1.2->seaborn==0.10.0) (2.8.1)\n",
      "Requirement already satisfied: kiwisolver>=1.0.1 in /mnt/tmp/1588049631243-0/lib64/python3.6/site-packages (from matplotlib>=2.1.2->seaborn==0.10.0) (1.2.0)\n",
      "Requirement already satisfied: cycler>=0.10 in /mnt/tmp/1588049631243-0/lib/python3.6/site-packages (from matplotlib>=2.1.2->seaborn==0.10.0) (0.10.0)\n",
      "Requirement already satisfied: pytz>=2017.2 in /usr/local/lib/python3.6/site-packages (from pandas>=0.22.0->seaborn==0.10.0) (2019.3)\n",
      "Requirement already satisfied: six>=1.5 in /usr/local/lib/python3.6/site-packages (from python-dateutil>=2.1->matplotlib>=2.1.2->seaborn==0.10.0) (1.13.0)\n",
      "Installing collected packages: scipy, seaborn\n",
      "Successfully installed scipy-1.4.1 seaborn-0.10.0"
     ]
    }
   ],
   "source": [
    "# install packages\n",
    "sc.install_pypi_package('pandas==1.0.3')\n",
    "sc.install_pypi_package(\"matplotlib==3.2.1\")\n",
    "sc.install_pypi_package(\"seaborn==0.10.0\")"
   ]
  },
  {
   "cell_type": "code",
   "execution_count": 2,
   "metadata": {},
   "outputs": [
    {
     "data": {
      "application/vnd.jupyter.widget-view+json": {
       "model_id": "6e22c831706249a895c99928e661e018",
       "version_major": 2,
       "version_minor": 0
      },
      "text/plain": [
       "VBox()"
      ]
     },
     "metadata": {},
     "output_type": "display_data"
    },
    {
     "data": {
      "application/vnd.jupyter.widget-view+json": {
       "model_id": "",
       "version_major": 2,
       "version_minor": 0
      },
      "text/plain": [
       "FloatProgress(value=0.0, bar_style='info', description='Progress:', layout=Layout(height='25px', width='50%'),…"
      ]
     },
     "metadata": {},
     "output_type": "display_data"
    },
    {
     "name": "stdout",
     "output_type": "stream",
     "text": [
      "Package                    Version\n",
      "-------------------------- -------\n",
      "beautifulsoup4             4.8.1  \n",
      "boto                       2.49.0 \n",
      "cycler                     0.10.0 \n",
      "jmespath                   0.9.4  \n",
      "kiwisolver                 1.2.0  \n",
      "lxml                       4.4.2  \n",
      "matplotlib                 3.2.1  \n",
      "mysqlclient                1.4.6  \n",
      "nltk                       3.4.5  \n",
      "nose                       1.3.4  \n",
      "numpy                      1.14.5 \n",
      "pandas                     1.0.3  \n",
      "pip                        20.0.2 \n",
      "py-dateutil                2.2    \n",
      "pyparsing                  2.4.7  \n",
      "python-dateutil            2.8.1  \n",
      "python36-sagemaker-pyspark 1.2.6  \n",
      "pytz                       2019.3 \n",
      "PyYAML                     3.11   \n",
      "scipy                      1.4.1  \n",
      "seaborn                    0.10.0 \n",
      "setuptools                 46.1.3 \n",
      "six                        1.13.0 \n",
      "soupsieve                  1.9.5  \n",
      "wheel                      0.34.2 \n",
      "windmill                   1.6"
     ]
    }
   ],
   "source": [
    "# double check packages has been installed\n",
    "sc.list_packages() "
   ]
  },
  {
   "cell_type": "code",
   "execution_count": 5,
   "metadata": {},
   "outputs": [
    {
     "data": {
      "application/vnd.jupyter.widget-view+json": {
       "model_id": "819d323a210d4ceea92ebc319dc5ba7f",
       "version_major": 2,
       "version_minor": 0
      },
      "text/plain": [
       "VBox()"
      ]
     },
     "metadata": {},
     "output_type": "display_data"
    },
    {
     "data": {
      "application/vnd.jupyter.widget-view+json": {
       "model_id": "",
       "version_major": 2,
       "version_minor": 0
      },
      "text/plain": [
       "FloatProgress(value=0.0, bar_style='info', description='Progress:', layout=Layout(height='25px', width='50%'),…"
      ]
     },
     "metadata": {},
     "output_type": "display_data"
    }
   ],
   "source": [
    "#Importing\n",
    "import pandas as pd\n",
    "import matplotlib.pyplot as plt\n",
    "import seaborn as sns"
   ]
  },
  {
   "cell_type": "code",
   "execution_count": 6,
   "metadata": {},
   "outputs": [
    {
     "data": {
      "application/vnd.jupyter.widget-view+json": {
       "model_id": "0bf586bd3d164bd6a6006d16a9e7505b",
       "version_major": 2,
       "version_minor": 0
      },
      "text/plain": [
       "VBox()"
      ]
     },
     "metadata": {},
     "output_type": "display_data"
    },
    {
     "data": {
      "application/vnd.jupyter.widget-view+json": {
       "model_id": "",
       "version_major": 2,
       "version_minor": 0
      },
      "text/plain": [
       "FloatProgress(value=0.0, bar_style='info', description='Progress:', layout=Layout(height='25px', width='50%'),…"
      ]
     },
     "metadata": {},
     "output_type": "display_data"
    }
   ],
   "source": [
    "# load data from s3 \n",
    "df = spark.read.csv('s3://sta9760-yelpdataset1/yelp_academic_dataset_business.json', header = 'true', inferSchema = True)"
   ]
  },
  {
   "cell_type": "code",
   "execution_count": 7,
   "metadata": {},
   "outputs": [
    {
     "data": {
      "application/vnd.jupyter.widget-view+json": {
       "model_id": "00f548533466472682f59faaa37a6f1c",
       "version_major": 2,
       "version_minor": 0
      },
      "text/plain": [
       "VBox()"
      ]
     },
     "metadata": {},
     "output_type": "display_data"
    },
    {
     "data": {
      "application/vnd.jupyter.widget-view+json": {
       "model_id": "",
       "version_major": 2,
       "version_minor": 0
      },
      "text/plain": [
       "FloatProgress(value=0.0, bar_style='info', description='Progress:', layout=Layout(height='25px', width='50%'),…"
      ]
     },
     "metadata": {},
     "output_type": "display_data"
    },
    {
     "name": "stdout",
     "output_type": "stream",
     "text": [
      "Total Columns:32\n",
      "Total Rows:209,392"
     ]
    }
   ],
   "source": [
    "#Display the number of rows and columns in our dataset.\n",
    "print(f'Total Columns:{len(df.dtypes)}')\n",
    "print(f'Total Rows:{df.count():,}')"
   ]
  },
  {
   "cell_type": "code",
   "execution_count": 8,
   "metadata": {
    "scrolled": true
   },
   "outputs": [
    {
     "data": {
      "application/vnd.jupyter.widget-view+json": {
       "model_id": "273fb1864de241138ce339ddb5fef59a",
       "version_major": 2,
       "version_minor": 0
      },
      "text/plain": [
       "VBox()"
      ]
     },
     "metadata": {},
     "output_type": "display_data"
    },
    {
     "data": {
      "application/vnd.jupyter.widget-view+json": {
       "model_id": "",
       "version_major": 2,
       "version_minor": 0
      },
      "text/plain": [
       "FloatProgress(value=0.0, bar_style='info', description='Progress:', layout=Layout(height='25px', width='50%'),…"
      ]
     },
     "metadata": {},
     "output_type": "display_data"
    },
    {
     "name": "stdout",
     "output_type": "stream",
     "text": [
      "root\n",
      " |-- {\"business_id\":\"f9NumwFMBDn751xgFiRbNA\": string (nullable = true)\n",
      " |-- \"name\":\"The Range At Lake Norman\": string (nullable = true)\n",
      " |-- \"address\":\"10913 Bailey Rd\": string (nullable = true)\n",
      " |-- \"city\":\"Cornelius\": string (nullable = true)\n",
      " |-- \"state\":\"NC\": string (nullable = true)\n",
      " |-- \"postal_code\":\"28031\": string (nullable = true)\n",
      " |-- \"latitude\":35.4627242: string (nullable = true)\n",
      " |-- \"longitude\":-80.8526119: string (nullable = true)\n",
      " |-- \"stars\":3.5: string (nullable = true)\n",
      " |-- \"review_count\":36: string (nullable = true)\n",
      " |-- \"is_open\":1: string (nullable = true)\n",
      " |-- \"attributes\":{\"BusinessAcceptsCreditCards\":\"True\": string (nullable = true)\n",
      " |-- \"BikeParking\":\"True\": string (nullable = true)\n",
      " |-- \"GoodForKids\":\"False\": string (nullable = true)\n",
      " |-- \"BusinessParking\":\"{'garage': False: string (nullable = true)\n",
      " |--  'street': False: string (nullable = true)\n",
      " |--  'validated': False: string (nullable = true)\n",
      " |--  'lot': True: string (nullable = true)\n",
      " |--  'valet': False}\": string (nullable = true)\n",
      " |-- \"ByAppointmentOnly\":\"False\": string (nullable = true)\n",
      " |-- \"RestaurantsPriceRange2\":\"3\"}: string (nullable = true)\n",
      " |-- \"categories\":\"Active Life: string (nullable = true)\n",
      " |--  Gun\\/Rifle Ranges: string (nullable = true)\n",
      " |--  Guns & Ammo: string (nullable = true)\n",
      " |--  Shopping\": string (nullable = true)\n",
      " |-- \"hours\":{\"Monday\":\"10:0-18:0\": string (nullable = true)\n",
      " |-- \"Tuesday\":\"11:0-20:0\": string (nullable = true)\n",
      " |-- \"Wednesday\":\"10:0-18:0\": string (nullable = true)\n",
      " |-- \"Thursday\":\"11:0-20:0\": string (nullable = true)\n",
      " |-- \"Friday\":\"11:0-20:0\": string (nullable = true)\n",
      " |-- \"Saturday\":\"11:0-20:0\": string (nullable = true)\n",
      " |-- \"Sunday\":\"13:0-18:0\"}}: string (nullable = true)"
     ]
    }
   ],
   "source": [
    "#Display the DataFrame schema below.\n",
    "df.printSchema()"
   ]
  },
  {
   "cell_type": "markdown",
   "metadata": {},
   "source": [
    "### Display the first 5 rows with the following columns:\n",
    "\n",
    "business_id\n",
    "name\n",
    "city\n",
    "state\n",
    "categories"
   ]
  },
  {
   "cell_type": "code",
   "execution_count": 10,
   "metadata": {},
   "outputs": [
    {
     "data": {
      "application/vnd.jupyter.widget-view+json": {
       "model_id": "660bae6bfa6a4d768bd1cb057a420b0c",
       "version_major": 2,
       "version_minor": 0
      },
      "text/plain": [
       "VBox()"
      ]
     },
     "metadata": {},
     "output_type": "display_data"
    },
    {
     "data": {
      "application/vnd.jupyter.widget-view+json": {
       "model_id": "",
       "version_major": 2,
       "version_minor": 0
      },
      "text/plain": [
       "FloatProgress(value=0.0, bar_style='info', description='Progress:', layout=Layout(height='25px', width='50%'),…"
      ]
     },
     "metadata": {},
     "output_type": "display_data"
    },
    {
     "name": "stderr",
     "output_type": "stream",
     "text": [
      "'cannot resolve \\'`business_id`\\' given input columns: [yelpbusiness. \\'lot\\': True, yelpbusiness.\"Tuesday\":\"11:0-20:0\", yelpbusiness.{\"business_id\":\"f9NumwFMBDn751xgFiRbNA\", yelpbusiness.\"Wednesday\":\"10:0-18:0\", yelpbusiness.\"BikeParking\":\"True\", yelpbusiness.\"review_count\":36, yelpbusiness.\"ByAppointmentOnly\":\"False\", yelpbusiness. \\'street\\': False, yelpbusiness.\"longitude\":-80.8526119, yelpbusiness. Shopping\", yelpbusiness.\"Sunday\":\"13:0-18:0\"}}, yelpbusiness.\"hours\":{\"Monday\":\"10:0-18:0\", yelpbusiness.\"city\":\"Cornelius\", yelpbusiness. \\'valet\\': False}\", yelpbusiness. Gun\\\\/Rifle Ranges, yelpbusiness.\"address\":\"10913 Bailey Rd\", yelpbusiness.\"Saturday\":\"11:0-20:0\", yelpbusiness.\"stars\":3.5, yelpbusiness.\"GoodForKids\":\"False\", yelpbusiness.\"latitude\":35.4627242, yelpbusiness.\"Thursday\":\"11:0-20:0\", yelpbusiness.\"state\":\"NC\", yelpbusiness.\"is_open\":1, yelpbusiness.\"postal_code\":\"28031\", yelpbusiness. \\'validated\\': False, yelpbusiness.\"categories\":\"Active Life, yelpbusiness.\"Friday\":\"11:0-20:0\", yelpbusiness.\"RestaurantsPriceRange2\":\"3\"}, yelpbusiness.\"BusinessParking\":\"{\\'garage\\': False, yelpbusiness. Guns & Ammo, yelpbusiness.\"name\":\"The Range At Lake Norman\", yelpbusiness.\"attributes\":{\"BusinessAcceptsCreditCards\":\"True\"]; line 2 pos 7;\\n\\'GlobalLimit 5\\n+- \\'LocalLimit 5\\n   +- \\'Project [\\'business_id, \\'name, \\'city, \\'state, \\'categories]\\n      +- SubqueryAlias `yelpbusiness`\\n         +- Relation[{\"business_id\":\"f9NumwFMBDn751xgFiRbNA\"#10,\"name\":\"The Range At Lake Norman\"#11,\"address\":\"10913 Bailey Rd\"#12,\"city\":\"Cornelius\"#13,\"state\":\"NC\"#14,\"postal_code\":\"28031\"#15,\"latitude\":35.4627242#16,\"longitude\":-80.8526119#17,\"stars\":3.5#18,\"review_count\":36#19,\"is_open\":1#20,\"attributes\":{\"BusinessAcceptsCreditCards\":\"True\"#21,\"BikeParking\":\"True\"#22,\"GoodForKids\":\"False\"#23,\"BusinessParking\":\"{\\'garage\\': False#24, \\'street\\': False#25, \\'validated\\': False#26, \\'lot\\': True#27, \\'valet\\': False}\"#28,\"ByAppointmentOnly\":\"False\"#29,\"RestaurantsPriceRange2\":\"3\"}#30,\"categories\":\"Active Life#31, Gun\\\\/Rifle Ranges#32, Guns & Ammo#33,... 8 more fields] csv\\n'\n",
      "Traceback (most recent call last):\n",
      "  File \"/usr/lib/spark/python/lib/pyspark.zip/pyspark/sql/session.py\", line 767, in sql\n",
      "    return DataFrame(self._jsparkSession.sql(sqlQuery), self._wrapped)\n",
      "  File \"/usr/lib/spark/python/lib/py4j-0.10.7-src.zip/py4j/java_gateway.py\", line 1257, in __call__\n",
      "    answer, self.gateway_client, self.target_id, self.name)\n",
      "  File \"/usr/lib/spark/python/lib/pyspark.zip/pyspark/sql/utils.py\", line 69, in deco\n",
      "    raise AnalysisException(s.split(': ', 1)[1], stackTrace)\n",
      "pyspark.sql.utils.AnalysisException: 'cannot resolve \\'`business_id`\\' given input columns: [yelpbusiness. \\'lot\\': True, yelpbusiness.\"Tuesday\":\"11:0-20:0\", yelpbusiness.{\"business_id\":\"f9NumwFMBDn751xgFiRbNA\", yelpbusiness.\"Wednesday\":\"10:0-18:0\", yelpbusiness.\"BikeParking\":\"True\", yelpbusiness.\"review_count\":36, yelpbusiness.\"ByAppointmentOnly\":\"False\", yelpbusiness. \\'street\\': False, yelpbusiness.\"longitude\":-80.8526119, yelpbusiness. Shopping\", yelpbusiness.\"Sunday\":\"13:0-18:0\"}}, yelpbusiness.\"hours\":{\"Monday\":\"10:0-18:0\", yelpbusiness.\"city\":\"Cornelius\", yelpbusiness. \\'valet\\': False}\", yelpbusiness. Gun\\\\/Rifle Ranges, yelpbusiness.\"address\":\"10913 Bailey Rd\", yelpbusiness.\"Saturday\":\"11:0-20:0\", yelpbusiness.\"stars\":3.5, yelpbusiness.\"GoodForKids\":\"False\", yelpbusiness.\"latitude\":35.4627242, yelpbusiness.\"Thursday\":\"11:0-20:0\", yelpbusiness.\"state\":\"NC\", yelpbusiness.\"is_open\":1, yelpbusiness.\"postal_code\":\"28031\", yelpbusiness. \\'validated\\': False, yelpbusiness.\"categories\":\"Active Life, yelpbusiness.\"Friday\":\"11:0-20:0\", yelpbusiness.\"RestaurantsPriceRange2\":\"3\"}, yelpbusiness.\"BusinessParking\":\"{\\'garage\\': False, yelpbusiness. Guns & Ammo, yelpbusiness.\"name\":\"The Range At Lake Norman\", yelpbusiness.\"attributes\":{\"BusinessAcceptsCreditCards\":\"True\"]; line 2 pos 7;\\n\\'GlobalLimit 5\\n+- \\'LocalLimit 5\\n   +- \\'Project [\\'business_id, \\'name, \\'city, \\'state, \\'categories]\\n      +- SubqueryAlias `yelpbusiness`\\n         +- Relation[{\"business_id\":\"f9NumwFMBDn751xgFiRbNA\"#10,\"name\":\"The Range At Lake Norman\"#11,\"address\":\"10913 Bailey Rd\"#12,\"city\":\"Cornelius\"#13,\"state\":\"NC\"#14,\"postal_code\":\"28031\"#15,\"latitude\":35.4627242#16,\"longitude\":-80.8526119#17,\"stars\":3.5#18,\"review_count\":36#19,\"is_open\":1#20,\"attributes\":{\"BusinessAcceptsCreditCards\":\"True\"#21,\"BikeParking\":\"True\"#22,\"GoodForKids\":\"False\"#23,\"BusinessParking\":\"{\\'garage\\': False#24, \\'street\\': False#25, \\'validated\\': False#26, \\'lot\\': True#27, \\'valet\\': False}\"#28,\"ByAppointmentOnly\":\"False\"#29,\"RestaurantsPriceRange2\":\"3\"}#30,\"categories\":\"Active Life#31, Gun\\\\/Rifle Ranges#32, Guns & Ammo#33,... 8 more fields] csv\\n'\n",
      "\n"
     ]
    }
   ],
   "source": [
    "\n",
    "df.createOrReplaceTempView('YelpBusiness')\n",
    "\n",
    "sqldf = spark.sql(\n",
    "'''\n",
    "SELECT `business_id`, `name`, `city`, `state`, `categories`\n",
    "FROM YelpBusiness\n",
    "\n",
    "LIMIT 5\n",
    "'''\n",
    ")"
   ]
  },
  {
   "cell_type": "code",
   "execution_count": null,
   "metadata": {},
   "outputs": [],
   "source": []
  }
 ],
 "metadata": {
  "kernelspec": {
   "display_name": "PySpark",
   "language": "",
   "name": "pysparkkernel"
  },
  "language_info": {
   "codemirror_mode": {
    "name": "python",
    "version": 2
   },
   "mimetype": "text/x-python",
   "name": "pyspark",
   "pygments_lexer": "python2"
  }
 },
 "nbformat": 4,
 "nbformat_minor": 4
}
